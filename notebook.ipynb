{
 "cells": [
  {
   "cell_type": "markdown",
   "id": "cc0eaeec-ddf5-41a8-ac19-c2498d6da755",
   "metadata": {},
   "source": [
    "### Constants"
   ]
  },
  {
   "cell_type": "code",
   "execution_count": null,
   "id": "5014cdb8-0fbe-4e60-8b46-094510ef25a5",
   "metadata": {},
   "outputs": [],
   "source": [
    "import os\n",
    "\n",
    "# directories\n",
    "TOTAL_IMAGE_SNAPSHOTS = 10\n",
    "LOGS_DIRECTORY = os.path.join(\"__logs__\")\n",
    "DATA_DIRECTORY = os.path.join(\"__data__\")\n",
    "MODELS_DIRECTORY = os.path.join(\"public/models\")\n",
    "FACES_DIRECTORY = os.path.join(DATA_DIRECTORY, \"faces\")\n",
    "\n",
    "# models\n",
    "DNN_MODEL_PATH = os.path.join(MODELS_DIRECTORY, \"opencv_face_detector_uint8.pb\")\n",
    "DNN_MODEL_CONFIG_PATH = os.path.join(MODELS_DIRECTORY, \"opencv_face_detector.pbtxt\")"
   ]
  },
  {
   "cell_type": "code",
   "execution_count": 1,
   "id": "ad11699e-63aa-4ec5-a67e-d6ac41a24141",
   "metadata": {
    "tags": []
   },
   "outputs": [],
   "source": [
    "### Helpers"
   ]
  },
  {
   "cell_type": "code",
   "execution_count": null,
   "id": "9b65777f-bf37-4f37-9b3a-b7abd8083dd9",
   "metadata": {},
   "outputs": [],
   "source": []
  },
  {
   "cell_type": "markdown",
   "id": "d77feb04-5fcb-42d8-baf5-36556056506d",
   "metadata": {},
   "source": [
    "### Setup directories"
   ]
  },
  {
   "cell_type": "code",
   "execution_count": 3,
   "id": "522b3a4d-3bbb-4b12-a17a-4dae4b0f7840",
   "metadata": {
    "tags": []
   },
   "outputs": [
    {
     "ename": "NameError",
     "evalue": "name 'LOGS_DIRECTORY' is not defined",
     "output_type": "error",
     "traceback": [
      "\u001b[0;31m---------------------------------------------------------------------------\u001b[0m",
      "\u001b[0;31mNameError\u001b[0m                                 Traceback (most recent call last)",
      "Cell \u001b[0;32mIn[3], line 10\u001b[0m\n\u001b[1;32m      6\u001b[0m     sys\u001b[38;5;241m.\u001b[39mstdout\u001b[38;5;241m.\u001b[39mwrite(\u001b[38;5;124m\"\u001b[39m\u001b[38;5;130;01m\\r\u001b[39;00m\u001b[38;5;132;01m%.2f\u001b[39;00m\u001b[38;5;132;01m%%\u001b[39;00m\u001b[38;5;124m\"\u001b[39m \u001b[38;5;241m%\u001b[39m percent)\n\u001b[1;32m      7\u001b[0m     sys\u001b[38;5;241m.\u001b[39mstdout\u001b[38;5;241m.\u001b[39mflush()\n\u001b[0;32m---> 10\u001b[0m \u001b[38;5;28;01mfor\u001b[39;00m directory \u001b[38;5;129;01min\u001b[39;00m [\u001b[43mLOGS_DIRECTORY\u001b[49m, DATA_DIRECTORY, MODELS_DIRECTORY, FACES_DIRECTORY]:\n\u001b[1;32m     11\u001b[0m     \u001b[38;5;28;01mif\u001b[39;00m \u001b[38;5;129;01mnot\u001b[39;00m os\u001b[38;5;241m.\u001b[39mpath\u001b[38;5;241m.\u001b[39misdir(directory):\n\u001b[1;32m     12\u001b[0m         \u001b[38;5;28mprint\u001b[39m(\u001b[38;5;124mf\u001b[39m\u001b[38;5;124m\"\u001b[39m\u001b[38;5;124mcreating `\u001b[39m\u001b[38;5;132;01m{\u001b[39;00mdirectory\u001b[38;5;132;01m}\u001b[39;00m\u001b[38;5;124m` directory.\u001b[39m\u001b[38;5;124m\"\u001b[39m)\n",
      "\u001b[0;31mNameError\u001b[0m: name 'LOGS_DIRECTORY' is not defined"
     ]
    }
   ],
   "source": [
    "import os\n",
    "import sys\n",
    "\n",
    "def reporthook(count, block_size, total_size):\n",
    "    percent = min((count * block_size * 100 / total_size), 100)\n",
    "    sys.stdout.write(\"\\r%.2f%%\" % percent)\n",
    "    sys.stdout.flush()\n",
    "\n",
    "\n",
    "for directory in [LOGS_DIRECTORY, DATA_DIRECTORY, MODELS_DIRECTORY, FACES_DIRECTORY]:\n",
    "    if not os.path.isdir(directory):\n",
    "        print(f\"creating `{directory}` directory.\")\n",
    "        os.mkdir(directory)\n",
    "\n",
    "for file in [DNN_MODEL_PATH, DNN_MODEL_CONFIG_PATH]:\n",
    "    if not os.path.isfile(file):\n",
    "        print(f\"downloading `{file}` from github...\")\n",
    "        request.urlretrieve(\n",
    "            f\"https://raw.githubusercontent.com/sharmapukar217/minor-project-resources/main/{file}\",\n",
    "            file,\n",
    "            reporthook,\n",
    "        )\n",
    "        print(f\"\\nfile saved to `{file}`.\")"
   ]
  }
 ],
 "metadata": {
  "kernelspec": {
   "display_name": "minor-project-resources",
   "language": "python",
   "name": "minor-project-resources"
  },
  "language_info": {
   "codemirror_mode": {
    "name": "ipython",
    "version": 3
   },
   "file_extension": ".py",
   "mimetype": "text/x-python",
   "name": "python",
   "nbconvert_exporter": "python",
   "pygments_lexer": "ipython3",
   "version": "3.10.6"
  }
 },
 "nbformat": 4,
 "nbformat_minor": 5
}
